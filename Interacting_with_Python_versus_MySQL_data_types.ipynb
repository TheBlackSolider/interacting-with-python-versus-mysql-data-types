{
  "nbformat": 4,
  "nbformat_minor": 0,
  "metadata": {
    "colab": {
      "provenance": []
    },
    "kernelspec": {
      "name": "python3",
      "display_name": "Python 3"
    },
    "language_info": {
      "name": "python"
    }
  },
  "cells": [
    {
      "cell_type": "markdown",
      "source": [
        "**Step 1: Analyzing Python Data and Inferring Schema for Namedtuples**"
      ],
      "metadata": {
        "id": "AkTwJRv8Wwht"
      }
    },
    {
      "cell_type": "code",
      "execution_count": 1,
      "metadata": {
        "id": "xG1Jh_uXWoHZ"
      },
      "outputs": [],
      "source": [
        "from collections import namedtuple\n",
        "from decimal import Decimal\n",
        "from fractions import Fraction\n",
        "\n",
        "# Sample namedtuple data\n",
        "Numbers1 = namedtuple('Numbers1', ['a', 'b', 'c', 'd', 'e'])\n",
        "\n",
        "data1 = [\n",
        "    Numbers1(a=1.23, b=Decimal('1.15573'), c=1000000000000, d=2, e=Fraction(22, 7)),\n",
        "    Numbers1(a=4.56, b=Decimal('1.155727349790921717935726'), c=-22, d=5, e=Fraction(1, 3)),\n",
        "    Numbers1(a=7.89, b=Decimal('1.0'), c=56, d=9, e=Fraction(5, 1))\n",
        "]\n"
      ]
    },
    {
      "cell_type": "code",
      "source": [
        "def infer_schema(data, table_name=\"my_records\"):\n",
        "    # Mapping of Python types to MySQL data types\n",
        "    type_mapping = {\n",
        "        int: \"BIGINT\",\n",
        "        float: \"REAL\",\n",
        "        Decimal: \"DECIMAL(40,25)\",\n",
        "        Fraction: \"TEXT\",\n",
        "        str: \"TEXT\"\n",
        "    }\n",
        "\n",
        "    # Analyze the first namedtuple to infer types\n",
        "    first_row = data[0]\n",
        "    columns = []\n",
        "\n",
        "    for field, value in first_row._asdict().items():\n",
        "        py_type = type(value)\n",
        "        mysql_type = type_mapping.get(py_type, \"TEXT\")\n",
        "        columns.append(f\"{field} {mysql_type}\")\n",
        "\n",
        "    # Generate the SQL CREATE TABLE statement\n",
        "    columns_sql = \",\\n    \".join(columns)\n",
        "    create_table_statement = f\"CREATE TABLE {table_name} (\\n    {columns_sql}\\n);\"\n",
        "\n",
        "    return create_table_statement\n",
        "\n",
        "print(infer_schema(data1))\n"
      ],
      "metadata": {
        "colab": {
          "base_uri": "https://localhost:8080/"
        },
        "id": "luXpPWkZXQJy",
        "outputId": "fc19a647-0efa-4a55-ac23-45dc9f3b1901"
      },
      "execution_count": 2,
      "outputs": [
        {
          "output_type": "stream",
          "name": "stdout",
          "text": [
            "CREATE TABLE my_records (\n",
            "    a REAL,\n",
            "    b DECIMAL(40,25),\n",
            "    c BIGINT,\n",
            "    d BIGINT,\n",
            "    e TEXT\n",
            ");\n"
          ]
        }
      ]
    },
    {
      "cell_type": "markdown",
      "source": [
        "**Explanation:**\n",
        "\n",
        "Python to MySQL Type Mapping: We establish a dictionary that consists of association between Python types and MySQL types, for instance int is equivalent to BIGINT whereas Decimal is equivalent to DECIMAL.\n",
        "\n",
        "Dynamic Field Analysis: The first namedtuple contains fields which are dynamically analyzed in order to define the corresponding MySQL data type.\n",
        "\n",
        "SQL Generation: From the schema we have inferred, we proceed to create a CREATE TABLE statement."
      ],
      "metadata": {
        "id": "10vYbe5FXtzJ"
      }
    },
    {
      "cell_type": "markdown",
      "source": [
        "**Step 2: Handling NULLable Columns**"
      ],
      "metadata": {
        "id": "MC5YPMv7Xz9q"
      }
    },
    {
      "cell_type": "code",
      "source": [
        "def infer_schema_with_nulls(data, table_name=\"my_records\"):\n",
        "    type_mapping = {\n",
        "        int: \"BIGINT\",\n",
        "        float: \"REAL\",\n",
        "        Decimal: \"DECIMAL(40,25)\",\n",
        "        Fraction: \"TEXT\",\n",
        "        str: \"TEXT\"\n",
        "    }\n",
        "\n",
        "    columns = []\n",
        "\n",
        "    # Check for None values in the entire dataset\n",
        "    for field in data[0]._fields:\n",
        "        field_types = {type(getattr(row, field)) for row in data}\n",
        "        if None in field_types:\n",
        "            mysql_type = \"TEXT\"\n",
        "            nullable = \"NULL\"\n",
        "        else:\n",
        "            py_type = type(getattr(data[0], field))\n",
        "            mysql_type = type_mapping.get(py_type, \"TEXT\")\n",
        "            nullable = \"NOT NULL\"\n",
        "\n",
        "        columns.append(f\"{field} {mysql_type} {nullable}\")\n",
        "\n",
        "    columns_sql = \",\\n    \".join(columns)\n",
        "    create_table_statement = f\"CREATE TABLE {table_name} (\\n    {columns_sql}\\n);\"\n",
        "\n",
        "    return create_table_statement\n",
        "\n",
        "print(infer_schema_with_nulls(data1))\n"
      ],
      "metadata": {
        "colab": {
          "base_uri": "https://localhost:8080/"
        },
        "id": "-0v9vdCTXZAH",
        "outputId": "9b0e43bb-5c03-4a38-818e-05edbcfe34db"
      },
      "execution_count": 3,
      "outputs": [
        {
          "output_type": "stream",
          "name": "stdout",
          "text": [
            "CREATE TABLE my_records (\n",
            "    a REAL NOT NULL,\n",
            "    b DECIMAL(40,25) NOT NULL,\n",
            "    c BIGINT NOT NULL,\n",
            "    d BIGINT NOT NULL,\n",
            "    e TEXT NOT NULL\n",
            ");\n"
          ]
        }
      ]
    },
    {
      "cell_type": "markdown",
      "source": [
        "**Explanation:**\n",
        "\n",
        "NULLable Handling: For each column, record if there are any rows containing None for that column; that column will be marked NULL in MySQL schema.\n",
        "\n",
        "NOT NULL: If there is no None values in the collection, we set the option for the column as NOT NULL."
      ],
      "metadata": {
        "id": "gkH924vpaZxb"
      }
    },
    {
      "cell_type": "markdown",
      "source": [
        "**Step 3: Handling Dictionaries, Lists, and Custom Objects**"
      ],
      "metadata": {
        "id": "jnIZ2k9MarHf"
      }
    },
    {
      "cell_type": "code",
      "source": [
        "def infer_schema_from_dicts(data, table_name=\"my_records\"):\n",
        "    type_mapping = {\n",
        "        int: \"BIGINT\",\n",
        "        float: \"REAL\",\n",
        "        Decimal: \"DECIMAL(40,25)\",\n",
        "        str: \"TEXT\"\n",
        "    }\n",
        "\n",
        "    columns = []\n",
        "\n",
        "    first_row = data[0]\n",
        "    for field, value in first_row.items():\n",
        "        py_type = type(value)\n",
        "        mysql_type = type_mapping.get(py_type, \"TEXT\")\n",
        "        nullable = \"NULL\" if value is None else \"NOT NULL\"\n",
        "        columns.append(f\"{field} {mysql_type} {nullable}\")\n",
        "\n",
        "    columns_sql = \",\\n    \".join(columns)\n",
        "    create_table_statement = f\"CREATE TABLE {table_name} (\\n    {columns_sql}\\n);\"\n",
        "\n",
        "    return create_table_statement\n",
        "\n",
        "# Example data with dictionaries\n",
        "data_dicts = [\n",
        "    {\"a\": 1, \"b\": None, \"c\": 3.14, \"d\": \"text\"},\n",
        "    {\"a\": 2, \"b\": Decimal(\"1.5\"), \"c\": 2.71, \"d\": \"more text\"}\n",
        "]\n",
        "\n",
        "print(infer_schema_from_dicts(data_dicts))\n"
      ],
      "metadata": {
        "colab": {
          "base_uri": "https://localhost:8080/"
        },
        "id": "oVccRtHUZW-1",
        "outputId": "bcb50962-c3e3-4160-fd5e-867fcf506766"
      },
      "execution_count": 4,
      "outputs": [
        {
          "output_type": "stream",
          "name": "stdout",
          "text": [
            "CREATE TABLE my_records (\n",
            "    a BIGINT NOT NULL,\n",
            "    b TEXT NULL,\n",
            "    c REAL NOT NULL,\n",
            "    d TEXT NOT NULL\n",
            ");\n"
          ]
        }
      ]
    },
    {
      "cell_type": "markdown",
      "source": [
        "**Explanation:**\n",
        "\n",
        "Dictionaries: Array keys then become field names, and the actual values that you can provide define the MySQL type. Handle None as NULL.\n",
        "\n",
        "Custom Objects: Access attributes as column using getattr() function and get MySQL types from the values of attributes.\n",
        "\n",
        "Lists/Tuples: To translate these Si elements, an ontology of analyse fields can be assumed, default column names and map None to null.\n",
        "\n",
        "All the collections automatically produce MySQL CREATE TABLE statements using Python data types.\n",
        "\n",
        "\n",
        "\n",
        "\n",
        "\n",
        "\n",
        "\n"
      ],
      "metadata": {
        "id": "Jtb5BvfHbwNy"
      }
    },
    {
      "cell_type": "markdown",
      "source": [
        "## Conclusion\n",
        "\n",
        "In this project, we were dynamically deducing MySQL schemas from other various Python data types such as namedtuples, dictionaries, and any other collections. We mapped Python types to MySQL types and for the columns which can contain NULL’s, we had to account for None values.\n",
        "\n",
        "### Key Takeaways:\n",
        "- **Python to MySQL Type Mapping**: Escalante, they all were successfully mapped to MySQL-compatible types of Python data types including int, float, and Decimal.\n",
        "- **NULL Handling**: Certain columns which contained `None` were labeled as `NULL` when creating the MySQL schema.\n",
        "- **Extensibility**: To this solution various features related to dictionaries lists and any other form of collections were added.\n",
        "\n",
        "### Future Enhancements:\n",
        "1. **Heterogeneous Data Handling**: realise, work with mixed data types Python collections.\n",
        "2. **Edge Case Testing**: Expand test bounding still further and limit edges, for example to find broken behaviors where field names of dictionaries are missing or defined erroneously or where the row, column or cell structure of the custom object is erroneous.\n"
      ],
      "metadata": {
        "id": "kzRxxLXpbiab"
      }
    },
    {
      "cell_type": "code",
      "source": [],
      "metadata": {
        "id": "BSSRnx9xbjD0"
      },
      "execution_count": null,
      "outputs": []
    }
  ]
}